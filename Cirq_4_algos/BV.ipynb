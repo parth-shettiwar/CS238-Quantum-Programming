{
  "nbformat": 4,
  "nbformat_minor": 0,
  "metadata": {
    "colab": {
      "name": "BV.ipynb",
      "provenance": []
    },
    "kernelspec": {
      "name": "python3",
      "display_name": "Python 3"
    },
    "language_info": {
      "name": "python"
    }
  },
  "cells": [
    {
      "cell_type": "code",
      "execution_count": 1,
      "metadata": {
        "colab": {
          "base_uri": "https://localhost:8080/",
          "height": 1000
        },
        "id": "bZqTJflllY9k",
        "outputId": "5e575ca0-c64d-4b60-b914-589fbcd09693"
      },
      "outputs": [
        {
          "output_type": "stream",
          "name": "stdout",
          "text": [
            "Collecting cirq\n",
            "  Downloading cirq-0.13.1-py3-none-any.whl (7.7 kB)\n",
            "Collecting cirq-ionq==0.13.1\n",
            "  Downloading cirq_ionq-0.13.1-py3-none-any.whl (47 kB)\n",
            "\u001b[K     |████████████████████████████████| 47 kB 1.0 MB/s \n",
            "\u001b[?25hCollecting cirq-aqt==0.13.1\n",
            "  Downloading cirq_aqt-0.13.1-py3-none-any.whl (18 kB)\n",
            "Collecting cirq-google==0.13.1\n",
            "  Downloading cirq_google-0.13.1-py3-none-any.whl (437 kB)\n",
            "\u001b[K     |████████████████████████████████| 437 kB 30.0 MB/s \n",
            "\u001b[?25hCollecting cirq-pasqal==0.13.1\n",
            "  Downloading cirq_pasqal-0.13.1-py3-none-any.whl (29 kB)\n",
            "Collecting cirq-web==0.13.1\n",
            "  Downloading cirq_web-0.13.1-py3-none-any.whl (328 kB)\n",
            "\u001b[K     |████████████████████████████████| 328 kB 36.2 MB/s \n",
            "\u001b[?25hCollecting cirq-core==0.13.1\n",
            "  Downloading cirq_core-0.13.1-py3-none-any.whl (1.6 MB)\n",
            "\u001b[K     |████████████████████████████████| 1.6 MB 37.6 MB/s \n",
            "\u001b[?25hCollecting cirq-rigetti==0.13.1\n",
            "  Downloading cirq_rigetti-0.13.1-py3-none-any.whl (55 kB)\n",
            "\u001b[K     |████████████████████████████████| 55 kB 3.6 MB/s \n",
            "\u001b[?25hRequirement already satisfied: requests~=2.18 in /usr/local/lib/python3.7/dist-packages (from cirq-aqt==0.13.1->cirq) (2.23.0)\n",
            "Requirement already satisfied: networkx~=2.4 in /usr/local/lib/python3.7/dist-packages (from cirq-core==0.13.1->cirq) (2.6.3)\n",
            "Requirement already satisfied: sympy in /usr/local/lib/python3.7/dist-packages (from cirq-core==0.13.1->cirq) (1.7.1)\n",
            "Collecting duet~=0.2.0\n",
            "  Downloading duet-0.2.3-py3-none-any.whl (30 kB)\n",
            "Requirement already satisfied: tqdm in /usr/local/lib/python3.7/dist-packages (from cirq-core==0.13.1->cirq) (4.62.3)\n",
            "Requirement already satisfied: scipy in /usr/local/lib/python3.7/dist-packages (from cirq-core==0.13.1->cirq) (1.4.1)\n",
            "Requirement already satisfied: numpy~=1.16 in /usr/local/lib/python3.7/dist-packages (from cirq-core==0.13.1->cirq) (1.21.5)\n",
            "Requirement already satisfied: sortedcontainers~=2.0 in /usr/local/lib/python3.7/dist-packages (from cirq-core==0.13.1->cirq) (2.4.0)\n",
            "Requirement already satisfied: matplotlib~=3.0 in /usr/local/lib/python3.7/dist-packages (from cirq-core==0.13.1->cirq) (3.2.2)\n",
            "Requirement already satisfied: pandas in /usr/local/lib/python3.7/dist-packages (from cirq-core==0.13.1->cirq) (1.3.5)\n",
            "Requirement already satisfied: typing-extensions in /usr/local/lib/python3.7/dist-packages (from cirq-core==0.13.1->cirq) (3.10.0.2)\n",
            "Requirement already satisfied: google-api-core[grpc]<2.0.0dev,>=1.14.0 in /usr/local/lib/python3.7/dist-packages (from cirq-google==0.13.1->cirq) (1.26.3)\n",
            "Requirement already satisfied: protobuf>=3.13.0 in /usr/local/lib/python3.7/dist-packages (from cirq-google==0.13.1->cirq) (3.17.3)\n",
            "Requirement already satisfied: idna~=2.10 in /usr/local/lib/python3.7/dist-packages (from cirq-rigetti==0.13.1->cirq) (2.10)\n",
            "Collecting iso8601~=0.1.14\n",
            "  Downloading iso8601-0.1.16-py2.py3-none-any.whl (10 kB)\n",
            "Collecting httpx~=0.15.5\n",
            "  Downloading httpx-0.15.5-py3-none-any.whl (65 kB)\n",
            "\u001b[K     |████████████████████████████████| 65 kB 947 kB/s \n",
            "\u001b[?25hCollecting certifi~=2021.5.30\n",
            "  Downloading certifi-2021.5.30-py2.py3-none-any.whl (145 kB)\n",
            "\u001b[K     |████████████████████████████████| 145 kB 47.2 MB/s \n",
            "\u001b[?25hCollecting httpcore~=0.11.1\n",
            "  Downloading httpcore-0.11.1-py3-none-any.whl (52 kB)\n",
            "\u001b[K     |████████████████████████████████| 52 kB 826 kB/s \n",
            "\u001b[?25hCollecting sniffio~=1.2.0\n",
            "  Downloading sniffio-1.2.0-py3-none-any.whl (10 kB)\n",
            "Collecting toml~=0.10.2\n",
            "  Downloading toml-0.10.2-py2.py3-none-any.whl (16 kB)\n",
            "Collecting rfc3339~=6.2\n",
            "  Downloading rfc3339-6.2-py3-none-any.whl (5.5 kB)\n",
            "Collecting qcs-api-client~=0.8.0\n",
            "  Downloading qcs_api_client-0.8.0-py3-none-any.whl (97 kB)\n",
            "\u001b[K     |████████████████████████████████| 97 kB 4.0 MB/s \n",
            "\u001b[?25hCollecting pyquil~=3.0.0\n",
            "  Downloading pyquil-3.0.1-py3-none-any.whl (220 kB)\n",
            "\u001b[K     |████████████████████████████████| 220 kB 47.9 MB/s \n",
            "\u001b[?25hCollecting h11~=0.9.0\n",
            "  Downloading h11-0.9.0-py2.py3-none-any.whl (53 kB)\n",
            "\u001b[K     |████████████████████████████████| 53 kB 1.6 MB/s \n",
            "\u001b[?25hRequirement already satisfied: python-dateutil~=2.8.1 in /usr/local/lib/python3.7/dist-packages (from cirq-rigetti==0.13.1->cirq) (2.8.2)\n",
            "Collecting attrs~=20.3.0\n",
            "  Downloading attrs-20.3.0-py2.py3-none-any.whl (49 kB)\n",
            "\u001b[K     |████████████████████████████████| 49 kB 2.8 MB/s \n",
            "\u001b[?25hCollecting retrying~=1.3.3\n",
            "  Downloading retrying-1.3.3.tar.gz (10 kB)\n",
            "Collecting rfc3986~=1.5.0\n",
            "  Downloading rfc3986-1.5.0-py2.py3-none-any.whl (31 kB)\n",
            "Collecting pydantic~=1.8.2\n",
            "  Downloading pydantic-1.8.2-cp37-cp37m-manylinux2014_x86_64.whl (10.1 MB)\n",
            "\u001b[K     |████████████████████████████████| 10.1 MB 8.9 MB/s \n",
            "\u001b[?25hCollecting six~=1.16.0\n",
            "  Downloading six-1.16.0-py2.py3-none-any.whl (11 kB)\n",
            "Collecting pyjwt~=1.7.1\n",
            "  Downloading PyJWT-1.7.1-py2.py3-none-any.whl (18 kB)\n",
            "Requirement already satisfied: pytz in /usr/local/lib/python3.7/dist-packages (from google-api-core[grpc]<2.0.0dev,>=1.14.0->cirq-google==0.13.1->cirq) (2018.9)\n",
            "Requirement already satisfied: setuptools>=40.3.0 in /usr/local/lib/python3.7/dist-packages (from google-api-core[grpc]<2.0.0dev,>=1.14.0->cirq-google==0.13.1->cirq) (57.4.0)\n",
            "Requirement already satisfied: packaging>=14.3 in /usr/local/lib/python3.7/dist-packages (from google-api-core[grpc]<2.0.0dev,>=1.14.0->cirq-google==0.13.1->cirq) (21.3)\n",
            "Requirement already satisfied: googleapis-common-protos<2.0dev,>=1.6.0 in /usr/local/lib/python3.7/dist-packages (from google-api-core[grpc]<2.0.0dev,>=1.14.0->cirq-google==0.13.1->cirq) (1.54.0)\n",
            "Requirement already satisfied: google-auth<2.0dev,>=1.21.1 in /usr/local/lib/python3.7/dist-packages (from google-api-core[grpc]<2.0.0dev,>=1.14.0->cirq-google==0.13.1->cirq) (1.35.0)\n",
            "Requirement already satisfied: grpcio<2.0dev,>=1.29.0 in /usr/local/lib/python3.7/dist-packages (from google-api-core[grpc]<2.0.0dev,>=1.14.0->cirq-google==0.13.1->cirq) (1.43.0)\n",
            "Requirement already satisfied: cachetools<5.0,>=2.0.0 in /usr/local/lib/python3.7/dist-packages (from google-auth<2.0dev,>=1.21.1->google-api-core[grpc]<2.0.0dev,>=1.14.0->cirq-google==0.13.1->cirq) (4.2.4)\n",
            "Requirement already satisfied: rsa<5,>=3.1.4 in /usr/local/lib/python3.7/dist-packages (from google-auth<2.0dev,>=1.21.1->google-api-core[grpc]<2.0.0dev,>=1.14.0->cirq-google==0.13.1->cirq) (4.8)\n",
            "Requirement already satisfied: pyasn1-modules>=0.2.1 in /usr/local/lib/python3.7/dist-packages (from google-auth<2.0dev,>=1.21.1->google-api-core[grpc]<2.0.0dev,>=1.14.0->cirq-google==0.13.1->cirq) (0.2.8)\n",
            "Requirement already satisfied: cycler>=0.10 in /usr/local/lib/python3.7/dist-packages (from matplotlib~=3.0->cirq-core==0.13.1->cirq) (0.11.0)\n",
            "Requirement already satisfied: kiwisolver>=1.0.1 in /usr/local/lib/python3.7/dist-packages (from matplotlib~=3.0->cirq-core==0.13.1->cirq) (1.3.2)\n",
            "Requirement already satisfied: pyparsing!=2.0.4,!=2.1.2,!=2.1.6,>=2.0.1 in /usr/local/lib/python3.7/dist-packages (from matplotlib~=3.0->cirq-core==0.13.1->cirq) (3.0.7)\n",
            "Requirement already satisfied: pyasn1<0.5.0,>=0.4.6 in /usr/local/lib/python3.7/dist-packages (from pyasn1-modules>=0.2.1->google-auth<2.0dev,>=1.21.1->google-api-core[grpc]<2.0.0dev,>=1.14.0->cirq-google==0.13.1->cirq) (0.4.8)\n",
            "Collecting scipy\n",
            "  Downloading scipy-1.7.3-cp37-cp37m-manylinux_2_12_x86_64.manylinux2010_x86_64.whl (38.1 MB)\n",
            "\u001b[K     |████████████████████████████████| 38.1 MB 1.2 MB/s \n",
            "\u001b[?25hCollecting rpcq<4.0.0,>=3.6.0\n",
            "  Downloading rpcq-3.9.2.tar.gz (43 kB)\n",
            "\u001b[K     |████████████████████████████████| 43 kB 2.3 MB/s \n",
            "\u001b[?25hCollecting lark<0.12.0,>=0.11.1\n",
            "  Downloading lark-0.11.3.tar.gz (229 kB)\n",
            "\u001b[K     |████████████████████████████████| 229 kB 63.0 MB/s \n",
            "\u001b[?25hCollecting retry<0.10.0,>=0.9.2\n",
            "  Downloading retry-0.9.2-py2.py3-none-any.whl (8.0 kB)\n",
            "Collecting importlib-metadata<4.0.0,>=3.7.3\n",
            "  Downloading importlib_metadata-3.10.1-py3-none-any.whl (14 kB)\n",
            "Requirement already satisfied: zipp>=0.5 in /usr/local/lib/python3.7/dist-packages (from importlib-metadata<4.0.0,>=3.7.3->pyquil~=3.0.0->cirq-rigetti==0.13.1->cirq) (3.7.0)\n",
            "Requirement already satisfied: urllib3!=1.25.0,!=1.25.1,<1.26,>=1.21.1 in /usr/local/lib/python3.7/dist-packages (from requests~=2.18->cirq-aqt==0.13.1->cirq) (1.24.3)\n",
            "Requirement already satisfied: chardet<4,>=3.0.2 in /usr/local/lib/python3.7/dist-packages (from requests~=2.18->cirq-aqt==0.13.1->cirq) (3.0.4)\n",
            "Requirement already satisfied: py<2.0.0,>=1.4.26 in /usr/local/lib/python3.7/dist-packages (from retry<0.10.0,>=0.9.2->pyquil~=3.0.0->cirq-rigetti==0.13.1->cirq) (1.11.0)\n",
            "Requirement already satisfied: decorator>=3.4.2 in /usr/local/lib/python3.7/dist-packages (from retry<0.10.0,>=0.9.2->pyquil~=3.0.0->cirq-rigetti==0.13.1->cirq) (4.4.2)\n",
            "Collecting msgpack<1.0,>=0.6\n",
            "  Downloading msgpack-0.6.2-cp37-cp37m-manylinux1_x86_64.whl (243 kB)\n",
            "\u001b[K     |████████████████████████████████| 243 kB 50.5 MB/s \n",
            "\u001b[?25hCollecting python-rapidjson\n",
            "  Downloading python_rapidjson-1.5-cp37-cp37m-manylinux_2_5_x86_64.manylinux1_x86_64.manylinux_2_12_x86_64.manylinux2010_x86_64.whl (1.5 MB)\n",
            "\u001b[K     |████████████████████████████████| 1.5 MB 44.6 MB/s \n",
            "\u001b[?25hRequirement already satisfied: pyzmq>=17 in /usr/local/lib/python3.7/dist-packages (from rpcq<4.0.0,>=3.6.0->pyquil~=3.0.0->cirq-rigetti==0.13.1->cirq) (22.3.0)\n",
            "Collecting ruamel.yaml\n",
            "  Downloading ruamel.yaml-0.17.21-py3-none-any.whl (109 kB)\n",
            "\u001b[K     |████████████████████████████████| 109 kB 71.1 MB/s \n",
            "\u001b[?25hCollecting ruamel.yaml.clib>=0.2.6\n",
            "  Downloading ruamel.yaml.clib-0.2.6-cp37-cp37m-manylinux1_x86_64.whl (546 kB)\n",
            "\u001b[K     |████████████████████████████████| 546 kB 54.2 MB/s \n",
            "\u001b[?25hRequirement already satisfied: mpmath>=0.19 in /usr/local/lib/python3.7/dist-packages (from sympy->cirq-core==0.13.1->cirq) (1.2.1)\n",
            "Building wheels for collected packages: lark, retrying, rpcq\n",
            "  Building wheel for lark (setup.py) ... \u001b[?25l\u001b[?25hdone\n",
            "  Created wheel for lark: filename=lark-0.11.3-py2.py3-none-any.whl size=99648 sha256=ef20b93937cd0e0ae0ef4ddb4b2bd647fdc8f6dc4dc684f3b82a3cefa8926af9\n",
            "  Stored in directory: /root/.cache/pip/wheels/d7/61/3c/9ac365f55966367be8d77dbeb21a3ddece3c466e660121e8d6\n",
            "  Building wheel for retrying (setup.py) ... \u001b[?25l\u001b[?25hdone\n",
            "  Created wheel for retrying: filename=retrying-1.3.3-py3-none-any.whl size=11447 sha256=6df10a8f69923fc983fe1e5ee64b91ca6c9557c4fd2c934a79abd59d9e614e44\n",
            "  Stored in directory: /root/.cache/pip/wheels/f9/8d/8d/f6af3f7f9eea3553bc2fe6d53e4b287dad18b06a861ac56ddf\n",
            "  Building wheel for rpcq (setup.py) ... \u001b[?25l\u001b[?25hdone\n",
            "  Created wheel for rpcq: filename=rpcq-3.9.2-py3-none-any.whl size=45877 sha256=b12ddf324e2552f8b669d3606da7106277ce30787692b842de507aaf1122d0e3\n",
            "  Stored in directory: /root/.cache/pip/wheels/96/fb/72/b2179c8c6be1c6ded2d987247ac425957ca56208d81e99a2f2\n",
            "Successfully built lark retrying rpcq\n",
            "Installing collected packages: sniffio, six, rfc3986, h11, ruamel.yaml.clib, httpcore, certifi, toml, ruamel.yaml, rfc3339, retrying, python-rapidjson, pyjwt, pydantic, msgpack, iso8601, httpx, attrs, scipy, rpcq, retry, qcs-api-client, lark, importlib-metadata, duet, pyquil, cirq-core, cirq-web, cirq-rigetti, cirq-pasqal, cirq-ionq, cirq-google, cirq-aqt, cirq\n",
            "  Attempting uninstall: six\n",
            "    Found existing installation: six 1.15.0\n",
            "    Uninstalling six-1.15.0:\n",
            "      Successfully uninstalled six-1.15.0\n",
            "  Attempting uninstall: certifi\n",
            "    Found existing installation: certifi 2021.10.8\n",
            "    Uninstalling certifi-2021.10.8:\n",
            "      Successfully uninstalled certifi-2021.10.8\n",
            "  Attempting uninstall: msgpack\n",
            "    Found existing installation: msgpack 1.0.3\n",
            "    Uninstalling msgpack-1.0.3:\n",
            "      Successfully uninstalled msgpack-1.0.3\n",
            "  Attempting uninstall: attrs\n",
            "    Found existing installation: attrs 21.4.0\n",
            "    Uninstalling attrs-21.4.0:\n",
            "      Successfully uninstalled attrs-21.4.0\n",
            "  Attempting uninstall: scipy\n",
            "    Found existing installation: scipy 1.4.1\n",
            "    Uninstalling scipy-1.4.1:\n",
            "      Successfully uninstalled scipy-1.4.1\n",
            "  Attempting uninstall: importlib-metadata\n",
            "    Found existing installation: importlib-metadata 4.11.0\n",
            "    Uninstalling importlib-metadata-4.11.0:\n",
            "      Successfully uninstalled importlib-metadata-4.11.0\n",
            "\u001b[31mERROR: pip's dependency resolver does not currently take into account all the packages that are installed. This behaviour is the source of the following dependency conflicts.\n",
            "tensorflow 2.8.0 requires tf-estimator-nightly==2.8.0.dev2021122109, which is not installed.\n",
            "markdown 3.3.6 requires importlib-metadata>=4.4; python_version < \"3.10\", but you have importlib-metadata 3.10.1 which is incompatible.\n",
            "google-colab 1.0.0 requires six~=1.15.0, but you have six 1.16.0 which is incompatible.\n",
            "datascience 0.10.6 requires folium==0.2.1, but you have folium 0.8.3 which is incompatible.\n",
            "albumentations 0.1.12 requires imgaug<0.2.7,>=0.2.5, but you have imgaug 0.2.9 which is incompatible.\u001b[0m\n",
            "Successfully installed attrs-20.3.0 certifi-2021.5.30 cirq-0.13.1 cirq-aqt-0.13.1 cirq-core-0.13.1 cirq-google-0.13.1 cirq-ionq-0.13.1 cirq-pasqal-0.13.1 cirq-rigetti-0.13.1 cirq-web-0.13.1 duet-0.2.3 h11-0.9.0 httpcore-0.11.1 httpx-0.15.5 importlib-metadata-3.10.1 iso8601-0.1.16 lark-0.11.3 msgpack-0.6.2 pydantic-1.8.2 pyjwt-1.7.1 pyquil-3.0.1 python-rapidjson-1.5 qcs-api-client-0.8.0 retry-0.9.2 retrying-1.3.3 rfc3339-6.2 rfc3986-1.5.0 rpcq-3.9.2 ruamel.yaml-0.17.21 ruamel.yaml.clib-0.2.6 scipy-1.7.3 six-1.16.0 sniffio-1.2.0 toml-0.10.2\n"
          ]
        },
        {
          "output_type": "display_data",
          "data": {
            "application/vnd.colab-display-data+json": {
              "pip_warning": {
                "packages": [
                  "six"
                ]
              }
            }
          },
          "metadata": {}
        }
      ],
      "source": [
        "!pip install cirq"
      ]
    },
    {
      "cell_type": "code",
      "source": [
        "import numpy as np\n",
        "import random\n",
        "import time\n",
        "import itertools as itert\n",
        "import cirq\n",
        "import matplotlib.pyplot as plt\n",
        "import math"
      ],
      "metadata": {
        "id": "XyBKYSqGl7N3"
      },
      "execution_count": 2,
      "outputs": []
    },
    {
      "cell_type": "markdown",
      "metadata": {
        "id": "BBaSLHoy4SND"
      },
      "source": [
        "Berstein Vazirani"
      ]
    },
    {
      "cell_type": "code",
      "execution_count": null,
      "metadata": {
        "id": "WzYfbRZAqyOF"
      },
      "outputs": [],
      "source": [
        "class Oracle(cirq.Gate):\n",
        "    def __init__(self, n, ufMatrix, name):\n",
        "        self.__n = n\n",
        "        self.__ufMatrix = ufMatrix\n",
        "        self.__name = name\n",
        "\n",
        "    def num_qubits(self):\n",
        "        return self.__n \n",
        "\n",
        "    def _unitary_(self):\n",
        "        return np.squeeze(np.asarray(self.__ufMatrix))\n",
        "        \n",
        "    def __str__(self):\n",
        "        return self.__name\n",
        "\n",
        "def bitstring(bits):\n",
        "    return \"\".join(str(int(b)) for b in bits)\n",
        "\n",
        "def runAndPrint(n, qubits, ufMatrix, verbose):\n",
        "    # Time taken by program needs to be checked.\n",
        "    start = time.time()\n",
        "    # Defining start of Cirq program\n",
        "    c = cirq.Circuit()\n",
        "\n",
        "    # setting last qubit to 1\n",
        "    c.append(cirq.X(qubits[n-1]))\n",
        "    \n",
        "    # adding Hadamard gates to all qubits\n",
        "    for i in range(0,n):\n",
        "        c.append([cirq.H(qubits[i])])\n",
        "    \n",
        "    # creating Uf gate\n",
        "    uf_bv = Oracle(n, ufMatrix, \"UF\")\n",
        "    \n",
        "    # adding Uf gate\n",
        "    c.append(uf_bv(*qubits))\n",
        "    \n",
        "    # helper bit does not require H gate. Result is treated as trash/ garbage    \n",
        "    for i in range(0,n):\n",
        "        c.append([cirq.H(qubits[i])])        \n",
        "    \n",
        "    # measurements\n",
        "    c.append(cirq.measure(*qubits[:-1], key='result'))\n",
        "       \n",
        "    mid = time.time()\n",
        "\n",
        "    simulator = cirq.Simulator()\n",
        "    \n",
        "    result = simulator.run(c, repetitions = 30)\n",
        "    end = time.time()\n",
        "\n",
        "    if verbose:\n",
        "        print(\"Circuit used to solve problem: \")\n",
        "        print(c)\n",
        "    \n",
        "        print(\"Results: \")\n",
        "        print(result)\n",
        "\n",
        "        frequencies = result.histogram(key=\"result\", fold_func = bitstring)\n",
        "        print('Sampled results:\\n{}'.format(frequencies))\n",
        "        _ = cirq.vis.plot_state_histogram(frequencies, plt.subplot())\n",
        "\n",
        "        print(\"Time taken to create circuit: \", mid - start)\n",
        "        print(\"Time taken for execution: \", end - mid)\n",
        "        print(\"Time taken by program: \", end - start)\n",
        "\n",
        "    return (mid - start, end - mid)\n",
        "\n",
        "def decimalToBinary(x, n):\n",
        "    s = bin(x).replace(\"0b\", \"\")\n",
        "    currsize = len(s)\n",
        "    ans = '0' * (n - currsize)\n",
        "    ans += s\n",
        "    return ans\n",
        "\n",
        "def getFx(x, a, b, n):\n",
        "    # Last bit is the helper qubit\n",
        "    xb = decimalToBinary(x, n+1)\n",
        "    ab = decimalToBinary(a, n)\n",
        "\n",
        "    # Add b\n",
        "    val = b\n",
        "\n",
        "    # Perform a.x\n",
        "    for i in range(n):\n",
        "        val += int(xb[i]) * int(ab[i])\n",
        "    \n",
        "    return (val % 2)\n",
        "\n",
        "def createUfBV(n, a, b, verbose = True):\n",
        "    ufMatrix = np.zeros((2**n,2**n))\n",
        "\n",
        "    for i in range(2 ** n):\n",
        "        val = getFx(i, a, b, n - 1)\n",
        "        if val == 1:\n",
        "            if i % 2 == 0:\n",
        "                ufMatrix[i+1][i] = 1\n",
        "            else:\n",
        "                ufMatrix[i-1][i] = 1\n",
        "        else:\n",
        "            ufMatrix[i][i] = 1\n",
        "\n",
        "    if verbose:\n",
        "        print(\"Matrix Uf:\")\n",
        "        print(ufMatrix)\n",
        "\n",
        "    return ufMatrix\n",
        "\n",
        "def runMainCircuitBV(n = 0, verbose = True):\n",
        "    # Taking the input n from the user\n",
        "    if(n == 0):\n",
        "        n = int(input(\"Enter length of function input: \"))\n",
        "    elif verbose:\n",
        "        print('Input Length: ', n)\n",
        "\n",
        "    n = n + 1\n",
        "\n",
        "    b = np.random.randint(low = 0, high = 2)\n",
        "    a = np.random.randint(low = 0, high = 2**(n-1))\n",
        "\n",
        "    if verbose:\n",
        "        print('a: ', decimalToBinary(a, n - 1))\n",
        "        print('b: ', b)\n",
        "\n",
        "    # Defining n + 1 qubits \n",
        "    qubits = cirq.LineQubit.range(n)\n",
        "\n",
        "    ufMatrix = createUfBV(n, a, b, verbose)\n",
        "\n",
        "    bval = getFx(0, a, b, n)\n",
        "\n",
        "    if verbose:\n",
        "        print('Expected b: ', bval)\n",
        "\n",
        "    return runAndPrint(n, qubits, ufMatrix, verbose)"
      ]
    },
    {
      "cell_type": "markdown",
      "source": [
        "Correctness Tests:"
      ],
      "metadata": {
        "id": "Nn_7AN7oQ0JY"
      }
    },
    {
      "cell_type": "code",
      "source": [
        "runMainCircuitBV(1)"
      ],
      "metadata": {
        "colab": {
          "base_uri": "https://localhost:8080/",
          "height": 660
        },
        "id": "VGd36akjQzfL",
        "outputId": "3f523f0a-6430-4d66-9f80-3779f74e187e"
      },
      "execution_count": null,
      "outputs": [
        {
          "output_type": "stream",
          "name": "stdout",
          "text": [
            "Input Length:  1\n",
            "a:  1\n",
            "b:  0\n",
            "Matrix Uf:\n",
            "[[1. 0. 0. 0.]\n",
            " [0. 1. 0. 0.]\n",
            " [0. 0. 0. 1.]\n",
            " [0. 0. 1. 0.]]\n",
            "Expected b:  0\n",
            "Circuit used to solve problem: \n",
            "0: ───H───────UF───H───M('result')───\n",
            "              │\n",
            "1: ───X───H───#2───H─────────────────\n",
            "Results: \n",
            "result=111111111111111111111111111111\n",
            "Sampled results:\n",
            "Counter({'1': 30})\n",
            "Time taken to create circuit:  0.0021064281463623047\n",
            "Time taken for execution:  0.008725166320800781\n",
            "Time taken by program:  0.010831594467163086\n"
          ]
        },
        {
          "output_type": "execute_result",
          "data": {
            "text/plain": [
              "(0.0021064281463623047, 0.008725166320800781)"
            ]
          },
          "metadata": {},
          "execution_count": 26
        },
        {
          "output_type": "display_data",
          "data": {
            "image/png": "[encoded data removed]",
            "text/plain": [
              "<Figure size 432x288 with 1 Axes>"
            ]
          },
          "metadata": {
            "needs_background": "light"
          }
        }
      ]
    },
    {
      "cell_type": "code",
      "execution_count": null,
      "metadata": {
        "colab": {
          "base_uri": "https://localhost:8080/",
          "height": 764
        },
        "id": "P_fS8kUox3eQ",
        "outputId": "fd58ea5b-ca87-4f32-cef7-9181c303e784"
      },
      "outputs": [
        {
          "output_type": "stream",
          "name": "stdout",
          "text": [
            "Input Length:  2\n",
            "a:  11\n",
            "b:  1\n",
            "Matrix Uf:\n",
            "[[0. 1. 0. 0. 0. 0. 0. 0.]\n",
            " [1. 0. 0. 0. 0. 0. 0. 0.]\n",
            " [0. 0. 1. 0. 0. 0. 0. 0.]\n",
            " [0. 0. 0. 1. 0. 0. 0. 0.]\n",
            " [0. 0. 0. 0. 1. 0. 0. 0.]\n",
            " [0. 0. 0. 0. 0. 1. 0. 0.]\n",
            " [0. 0. 0. 0. 0. 0. 0. 1.]\n",
            " [0. 0. 0. 0. 0. 0. 1. 0.]]\n",
            "Expected b:  1\n",
            "Circuit used to solve problem: \n",
            "0: ───H───────UF───H───M('result')───\n",
            "              │        │\n",
            "1: ───H───────#2───H───M─────────────\n",
            "              │\n",
            "2: ───X───H───#3───H─────────────────\n",
            "Results: \n",
            "result=111111111111111111111111111111, 111111111111111111111111111111\n",
            "Sampled results:\n",
            "Counter({'11': 30})\n",
            "Time taken to create circuit:  0.0012052059173583984\n",
            "Time taken for execution:  0.005669593811035156\n",
            "Time taken by program:  0.006874799728393555\n"
          ]
        },
        {
          "output_type": "execute_result",
          "data": {
            "text/plain": [
              "(0.0012052059173583984, 0.005669593811035156)"
            ]
          },
          "metadata": {},
          "execution_count": 27
        },
        {
          "output_type": "display_data",
          "data": {
            "image/png": "[encoded data removed]",
            "text/plain": [
              "<Figure size 432x288 with 1 Axes>"
            ]
          },
          "metadata": {
            "needs_background": "light"
          }
        }
      ],
      "source": [
        "runMainCircuitBV(2)"
      ]
    },
    {
      "cell_type": "code",
      "source": [
        "runMainCircuitBV(3)"
      ],
      "metadata": {
        "colab": {
          "base_uri": "https://localhost:8080/",
          "height": 937
        },
        "id": "Ab0K91HZQ7DX",
        "outputId": "313d7cf2-ae53-4071-e59f-6017569c6cc6"
      },
      "execution_count": null,
      "outputs": [
        {
          "output_type": "stream",
          "name": "stdout",
          "text": [
            "Input Length:  3\n",
            "a:  001\n",
            "b:  1\n",
            "Matrix Uf:\n",
            "[[0. 1. 0. 0. 0. 0. 0. 0. 0. 0. 0. 0. 0. 0. 0. 0.]\n",
            " [1. 0. 0. 0. 0. 0. 0. 0. 0. 0. 0. 0. 0. 0. 0. 0.]\n",
            " [0. 0. 1. 0. 0. 0. 0. 0. 0. 0. 0. 0. 0. 0. 0. 0.]\n",
            " [0. 0. 0. 1. 0. 0. 0. 0. 0. 0. 0. 0. 0. 0. 0. 0.]\n",
            " [0. 0. 0. 0. 0. 1. 0. 0. 0. 0. 0. 0. 0. 0. 0. 0.]\n",
            " [0. 0. 0. 0. 1. 0. 0. 0. 0. 0. 0. 0. 0. 0. 0. 0.]\n",
            " [0. 0. 0. 0. 0. 0. 1. 0. 0. 0. 0. 0. 0. 0. 0. 0.]\n",
            " [0. 0. 0. 0. 0. 0. 0. 1. 0. 0. 0. 0. 0. 0. 0. 0.]\n",
            " [0. 0. 0. 0. 0. 0. 0. 0. 0. 1. 0. 0. 0. 0. 0. 0.]\n",
            " [0. 0. 0. 0. 0. 0. 0. 0. 1. 0. 0. 0. 0. 0. 0. 0.]\n",
            " [0. 0. 0. 0. 0. 0. 0. 0. 0. 0. 1. 0. 0. 0. 0. 0.]\n",
            " [0. 0. 0. 0. 0. 0. 0. 0. 0. 0. 0. 1. 0. 0. 0. 0.]\n",
            " [0. 0. 0. 0. 0. 0. 0. 0. 0. 0. 0. 0. 0. 1. 0. 0.]\n",
            " [0. 0. 0. 0. 0. 0. 0. 0. 0. 0. 0. 0. 1. 0. 0. 0.]\n",
            " [0. 0. 0. 0. 0. 0. 0. 0. 0. 0. 0. 0. 0. 0. 1. 0.]\n",
            " [0. 0. 0. 0. 0. 0. 0. 0. 0. 0. 0. 0. 0. 0. 0. 1.]]\n",
            "Expected b:  1\n",
            "Circuit used to solve problem: \n",
            "0: ───H───────UF───H───M('result')───\n",
            "              │        │\n",
            "1: ───H───────#2───H───M─────────────\n",
            "              │        │\n",
            "2: ───H───────#3───H───M─────────────\n",
            "              │\n",
            "3: ───X───H───#4───H─────────────────\n",
            "Results: \n",
            "result=000000000000000000000000000000, 000000000000000000000000000000, 111111111111111111111111111111\n",
            "Sampled results:\n",
            "Counter({'001': 30})\n",
            "Time taken to create circuit:  0.0011737346649169922\n",
            "Time taken for execution:  0.005919218063354492\n",
            "Time taken by program:  0.007092952728271484\n"
          ]
        },
        {
          "output_type": "execute_result",
          "data": {
            "text/plain": [
              "(0.0011737346649169922, 0.005919218063354492)"
            ]
          },
          "metadata": {},
          "execution_count": 29
        },
        {
          "output_type": "display_data",
          "data": {
            "image/png": "[encoded data removed]",
            "text/plain": [
              "<Figure size 432x288 with 1 Axes>"
            ]
          },
          "metadata": {
            "needs_background": "light"
          }
        }
      ]
    },
    {
      "cell_type": "code",
      "source": [
        "runMainCircuitBV(4)"
      ],
      "metadata": {
        "colab": {
          "base_uri": "https://localhost:8080/",
          "height": 816
        },
        "id": "efTbW80qQ-jA",
        "outputId": "c17f5cd5-c724-4b53-dae4-65653931aac6"
      },
      "execution_count": null,
      "outputs": [
        {
          "output_type": "stream",
          "name": "stdout",
          "text": [
            "Input Length:  4\n",
            "a:  0010\n",
            "b:  1\n",
            "Matrix Uf:\n",
            "[[0. 1. 0. ... 0. 0. 0.]\n",
            " [1. 0. 0. ... 0. 0. 0.]\n",
            " [0. 0. 0. ... 0. 0. 0.]\n",
            " ...\n",
            " [0. 0. 0. ... 1. 0. 0.]\n",
            " [0. 0. 0. ... 0. 1. 0.]\n",
            " [0. 0. 0. ... 0. 0. 1.]]\n",
            "Expected b:  1\n",
            "Circuit used to solve problem: \n",
            "0: ───H───────UF───H───M('result')───\n",
            "              │        │\n",
            "1: ───H───────#2───H───M─────────────\n",
            "              │        │\n",
            "2: ───H───────#3───H───M─────────────\n",
            "              │        │\n",
            "3: ───H───────#4───H───M─────────────\n",
            "              │\n",
            "4: ───X───H───#5───H─────────────────\n",
            "Results: \n",
            "result=000000000000000000000000000000, 000000000000000000000000000000, 111111111111111111111111111111, 000000000000000000000000000000\n",
            "Sampled results:\n",
            "Counter({'0010': 30})\n",
            "Time taken to create circuit:  0.002622365951538086\n",
            "Time taken for execution:  0.007663726806640625\n",
            "Time taken by program:  0.010286092758178711\n"
          ]
        },
        {
          "output_type": "execute_result",
          "data": {
            "text/plain": [
              "(0.002622365951538086, 0.007663726806640625)"
            ]
          },
          "metadata": {},
          "execution_count": 30
        },
        {
          "output_type": "display_data",
          "data": {
            "image/png": "[encoded data removed]",
            "text/plain": [
              "<Figure size 432x288 with 1 Axes>"
            ]
          },
          "metadata": {
            "needs_background": "light"
          }
        }
      ]
    },
    {
      "cell_type": "code",
      "source": [
        "runMainCircuitBV(5)"
      ],
      "metadata": {
        "colab": {
          "base_uri": "https://localhost:8080/",
          "height": 851
        },
        "id": "9HdTl-sfRAeY",
        "outputId": "91debb83-b10b-4bdc-f6bb-ae2a8596f34d"
      },
      "execution_count": null,
      "outputs": [
        {
          "output_type": "stream",
          "name": "stdout",
          "text": [
            "Input Length:  5\n",
            "a:  01000\n",
            "b:  0\n",
            "Matrix Uf:\n",
            "[[1. 0. 0. ... 0. 0. 0.]\n",
            " [0. 1. 0. ... 0. 0. 0.]\n",
            " [0. 0. 1. ... 0. 0. 0.]\n",
            " ...\n",
            " [0. 0. 0. ... 0. 0. 0.]\n",
            " [0. 0. 0. ... 0. 0. 1.]\n",
            " [0. 0. 0. ... 0. 1. 0.]]\n",
            "Expected b:  0\n",
            "Circuit used to solve problem: \n",
            "0: ───H───────UF───H───M('result')───\n",
            "              │        │\n",
            "1: ───H───────#2───H───M─────────────\n",
            "              │        │\n",
            "2: ───H───────#3───H───M─────────────\n",
            "              │        │\n",
            "3: ───H───────#4───H───M─────────────\n",
            "              │        │\n",
            "4: ───H───────#5───H───M─────────────\n",
            "              │\n",
            "5: ───X───H───#6───H─────────────────\n",
            "Results: \n",
            "result=000000000000000000000000000000, 111111111111111111111111111111, 000000000000000000000000000000, 000000000000000000000000000000, 000000000000000000000000000000\n",
            "Sampled results:\n",
            "Counter({'01000': 30})\n",
            "Time taken to create circuit:  0.0026755332946777344\n",
            "Time taken for execution:  0.012873411178588867\n",
            "Time taken by program:  0.015548944473266602\n"
          ]
        },
        {
          "output_type": "execute_result",
          "data": {
            "text/plain": [
              "(0.0026755332946777344, 0.012873411178588867)"
            ]
          },
          "metadata": {},
          "execution_count": 31
        },
        {
          "output_type": "display_data",
          "data": {
            "image/png": "[encoded data removed]",
            "text/plain": [
              "<Figure size 432x288 with 1 Axes>"
            ]
          },
          "metadata": {
            "needs_background": "light"
          }
        }
      ]
    },
    {
      "cell_type": "code",
      "source": [
        "runMainCircuitBV(6)"
      ],
      "metadata": {
        "colab": {
          "base_uri": "https://localhost:8080/",
          "height": 885
        },
        "id": "sgaL0ECZRCj7",
        "outputId": "3f12d193-3436-40f9-8639-b20472d4dbb8"
      },
      "execution_count": null,
      "outputs": [
        {
          "output_type": "stream",
          "name": "stdout",
          "text": [
            "Input Length:  6\n",
            "a:  001010\n",
            "b:  0\n",
            "Matrix Uf:\n",
            "[[1. 0. 0. ... 0. 0. 0.]\n",
            " [0. 1. 0. ... 0. 0. 0.]\n",
            " [0. 0. 1. ... 0. 0. 0.]\n",
            " ...\n",
            " [0. 0. 0. ... 1. 0. 0.]\n",
            " [0. 0. 0. ... 0. 1. 0.]\n",
            " [0. 0. 0. ... 0. 0. 1.]]\n",
            "Expected b:  0\n",
            "Circuit used to solve problem: \n",
            "0: ───H───────UF───H───M('result')───\n",
            "              │        │\n",
            "1: ───H───────#2───H───M─────────────\n",
            "              │        │\n",
            "2: ───H───────#3───H───M─────────────\n",
            "              │        │\n",
            "3: ───H───────#4───H───M─────────────\n",
            "              │        │\n",
            "4: ───H───────#5───H───M─────────────\n",
            "              │        │\n",
            "5: ───H───────#6───H───M─────────────\n",
            "              │\n",
            "6: ───X───H───#7───H─────────────────\n",
            "Results: \n",
            "result=000000000000000000000000000000, 000000000000000000000000000000, 111111111111111111111111111111, 000000000000000000000000000000, 111111111111111111111111111111, 000000000000000000000000000000\n",
            "Sampled results:\n",
            "Counter({'001010': 30})\n",
            "Time taken to create circuit:  0.0016734600067138672\n",
            "Time taken for execution:  0.010828018188476562\n",
            "Time taken by program:  0.01250147819519043\n"
          ]
        },
        {
          "output_type": "execute_result",
          "data": {
            "text/plain": [
              "(0.0016734600067138672, 0.010828018188476562)"
            ]
          },
          "metadata": {},
          "execution_count": 32
        },
        {
          "output_type": "display_data",
          "data": {
            "image/png": "[encoded data removed]",
            "text/plain": [
              "<Figure size 432x288 with 1 Axes>"
            ]
          },
          "metadata": {
            "needs_background": "light"
          }
        }
      ]
    },
    {
      "cell_type": "markdown",
      "source": [
        "Time for various Uf for n = 5"
      ],
      "metadata": {
        "id": "4FMmqtuGRMQL"
      }
    },
    {
      "cell_type": "code",
      "source": [
        "circuitTimes = []\n",
        "executionTimes = []\n",
        "totalTimes = []\n",
        "for i in range(100):\n",
        "    (circuit, execution) = runMainCircuitBV(5, False)\n",
        "    circuitTimes.append(circuit)\n",
        "    executionTimes.append(execution)\n",
        "    totalTimes.append(circuit + execution)\n",
        "plt.hist(circuitTimes)\n",
        "plt.xlabel('Circuit Creation Time')\n",
        "plt.ylabel('Frequency')\n",
        "plt.show() \n",
        "\n",
        "plt.hist(executionTimes)\n",
        "plt.xlabel('Execution Time')\n",
        "plt.ylabel('Frequency')\n",
        "plt.show() \n",
        "\n",
        "plt.hist(totalTimes)\n",
        "plt.xlabel('Total Time')\n",
        "plt.ylabel('Frequency')\n",
        "plt.show() "
      ],
      "metadata": {
        "colab": {
          "base_uri": "https://localhost:8080/",
          "height": 803
        },
        "outputId": "062ea017-0280-4bfe-fa60-02f70463bd62",
        "id": "eAjGYiheRMQL"
      },
      "execution_count": null,
      "outputs": [
        {
          "output_type": "display_data",
          "data": {
            "image/png": "[encoded data removed]",
            "text/plain": [
              "<Figure size 432x288 with 1 Axes>"
            ]
          },
          "metadata": {
            "needs_background": "light"
          }
        },
        {
          "output_type": "display_data",
          "data": {
            "image/png": "[encoded data removed]",
            "text/plain": [
              "<Figure size 432x288 with 1 Axes>"
            ]
          },
          "metadata": {
            "needs_background": "light"
          }
        },
        {
          "output_type": "display_data",
          "data": {
            "image/png": "[encoded data removed]",
            "text/plain": [
              "<Figure size 432x288 with 1 Axes>"
            ]
          },
          "metadata": {
            "needs_background": "light"
          }
        }
      ]
    },
    {
      "cell_type": "markdown",
      "source": [
        "Effect of n on execution time"
      ],
      "metadata": {
        "id": "cLbiFbXTRMQM"
      }
    },
    {
      "cell_type": "code",
      "source": [
        "circuitTimes = []\n",
        "executionTimes = []\n",
        "totalTimes = []\n",
        "for n in range(1, 10):\n",
        "    ct = 0\n",
        "    et = 0\n",
        "    tt = 0\n",
        "    for i in range(100):\n",
        "        (circuit, execution) = runMainCircuitBV(n, False)\n",
        "        ct += circuit\n",
        "        et += execution\n",
        "        tt += circuit + execution\n",
        "    circuitTimes.append(ct / 100)\n",
        "    executionTimes.append(et / 100)\n",
        "    totalTimes.append(tt / 100)\n",
        "\n",
        "x_axis = [1, 2, 3, 4, 5, 6, 7, 8, 9]\n",
        "plt.plot(x_axis, circuitTimes)\n",
        "plt.title('Circuit Generation time in terms of n')\n",
        "plt.ylabel('Circuit Generation Time')\n",
        "plt.xlabel('n')\n",
        "plt.show() \n",
        "\n",
        "plt.plot(x_axis, executionTimes)\n",
        "plt.title('Execution time in terms of n')\n",
        "plt.ylabel('Execution Time')\n",
        "plt.xlabel('n')\n",
        "plt.show() \n",
        "\n",
        "plt.plot(x_axis, totalTimes)\n",
        "plt.title('Total time in terms of n')\n",
        "plt.ylabel('Total Time')\n",
        "plt.xlabel('n')\n",
        "plt.show() "
      ],
      "metadata": {
        "colab": {
          "base_uri": "https://localhost:8080/",
          "height": 851
        },
        "outputId": "1ef4c3f6-2e83-498f-f3a3-2e5183ffcb94",
        "id": "BShyl5pnRMQM"
      },
      "execution_count": null,
      "outputs": [
        {
          "output_type": "display_data",
          "data": {
            "image/png": "[encoded data removed]",
            "text/plain": [
              "<Figure size 432x288 with 1 Axes>"
            ]
          },
          "metadata": {
            "needs_background": "light"
          }
        },
        {
          "output_type": "display_data",
          "data": {
            "image/png": "[encoded data removed]",
            "text/plain": [
              "<Figure size 432x288 with 1 Axes>"
            ]
          },
          "metadata": {
            "needs_background": "light"
          }
        },
        {
          "output_type": "display_data",
          "data": {
            "image/png": "[encoded data removed]",
            "text/plain": [
              "<Figure size 432x288 with 1 Axes>"
            ]
          },
          "metadata": {
            "needs_background": "light"
          }
        }
      ]
    }
  ]
}